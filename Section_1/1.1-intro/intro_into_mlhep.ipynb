{
 "cells": [
  {
   "cell_type": "markdown",
   "metadata": {},
   "source": [
    "<table>\n",
    "  <tr>\n",
    "    <td><center><img src=\"../../img/mlhep-logo-transparent-400.png\" width=\"400\"></center></td>\n",
    "    <td><h1><center>The Sixth Machine Learning <br/>for High Energy Physics Summer School 2020</center></h1></td>\n",
    "  </tr>\n",
    " </table>\n",
    "\n",
    "## Introduction to the seminar structure\n",
    "This notebook serves as a very basic part that should help you get familiar with different kinds of tasks you can throughout the school seminars. From easiest to more and more difficult those range from:\n",
    "- *follow the speaker* or just regular python cells that one can execute inside own `cocalc` project environment.\n",
    "- *write your own piece of code*\n",
    "- *test your code with explicit tests* and ask for assistance if it doesn't work\n",
    "- *be ready to run your code through external tests*\n",
    "\n",
    "So, having those shades of gray in mind, we start from a simple 2000-years old algorithm, then peek at system resources available. Afterwards, we accomplish code writing assignment and move on to the tests that help you getting scored."
   ]
  },
  {
   "cell_type": "markdown",
   "metadata": {},
   "source": [
    "### Simple function for finding greatest common denominator"
   ]
  },
  {
   "cell_type": "code",
   "execution_count": 1,
   "metadata": {
    "cocalc": {
     "outputs": {
      "0": {
       "name": "input",
       "opts": {
        "password": false,
        "prompt": "Number A"
       },
       "output_type": "stream",
       "value": "10"
      }
     }
    },
    "jupyter": {
     "outputs_hidden": false
    }
   },
   "outputs": [
    {
     "name": "stdout",
     "output_type": "stream",
     "text": [
      "Number A23\n"
     ]
    }
   ],
   "source": [
    "a = int(input(\"Number A\"))"
   ]
  },
  {
   "cell_type": "code",
   "execution_count": 2,
   "metadata": {
    "cocalc": {
     "outputs": {
      "0": {
       "name": "input",
       "opts": {
        "password": false,
        "prompt": "Number B"
       },
       "output_type": "stream",
       "value": "8"
      }
     }
    },
    "jupyter": {
     "outputs_hidden": false
    }
   },
   "outputs": [
    {
     "name": "stdout",
     "output_type": "stream",
     "text": [
      "Number B45\n"
     ]
    }
   ],
   "source": [
    "b = int(input(\"Number B\"))"
   ]
  },
  {
   "cell_type": "code",
   "execution_count": 3,
   "metadata": {
    "jupyter": {
     "outputs_hidden": false
    }
   },
   "outputs": [],
   "source": [
    "def gcd(a, b):\n",
    "    \"\"\" Euclidean algorithm for finding greatest common denominator \n",
    "    a, b - integer numbers\n",
    "    \"\"\"\n",
    "    if a < b:\n",
    "        return gcd(b, a)\n",
    "    if a % b > 0:\n",
    "        return gcd(a, a % b)\n",
    "    else:\n",
    "        return b"
   ]
  },
  {
   "cell_type": "markdown",
   "metadata": {},
   "source": [
    "**Hint**: Press `Shift-tab` inside function argument brackets of the next cell to see the help snippet."
   ]
  },
  {
   "cell_type": "code",
   "execution_count": 4,
   "metadata": {
    "jupyter": {
     "outputs_hidden": false
    }
   },
   "outputs": [
    {
     "data": {
      "text/plain": [
       "1"
      ]
     },
     "execution_count": 4,
     "metadata": {},
     "output_type": "execute_result"
    }
   ],
   "source": [
    "gcd(a, b)"
   ]
  },
  {
   "cell_type": "markdown",
   "metadata": {},
   "source": [
    "### System resources check"
   ]
  },
  {
   "cell_type": "code",
   "execution_count": 5,
   "metadata": {
    "jupyter": {
     "outputs_hidden": false
    }
   },
   "outputs": [
    {
     "name": "stdout",
     "output_type": "stream",
     "text": [
      "/home/ruchi/DS_ML/mlhep2020-assignments/Section_1/1.1-intro\r\n"
     ]
    }
   ],
   "source": [
    "# path\n",
    "!pwd"
   ]
  },
  {
   "cell_type": "code",
   "execution_count": 6,
   "metadata": {
    "jupyter": {
     "outputs_hidden": false
    }
   },
   "outputs": [
    {
     "name": "stdout",
     "output_type": "stream",
     "text": [
      "              total        used        free      shared  buff/cache   available\r\n",
      "Mem:           7882        5179         280         711        2423        1695\r\n",
      "Swap:         15257          36       15221\r\n"
     ]
    }
   ],
   "source": [
    "# free memory\n",
    "!free -m"
   ]
  },
  {
   "cell_type": "code",
   "execution_count": 7,
   "metadata": {
    "jupyter": {
     "outputs_hidden": false
    }
   },
   "outputs": [
    {
     "name": "stdout",
     "output_type": "stream",
     "text": [
      "Filesystem      Size  Used Avail Use% Mounted on\r\n",
      "udev            3.9G     0  3.9G   0% /dev\r\n",
      "tmpfs           789M  2.2M  787M   1% /run\r\n",
      "/dev/sda5        28G   18G  8.5G  68% /\r\n",
      "tmpfs           3.9G   11M  3.9G   1% /dev/shm\r\n",
      "tmpfs           5.0M  4.0K  5.0M   1% /run/lock\r\n",
      "tmpfs           3.9G     0  3.9G   0% /sys/fs/cgroup\r\n",
      "/dev/loop1      768K  768K     0 100% /snap/gnome-characters/741\r\n",
      "/dev/loop2       56M   56M     0 100% /snap/core18/2284\r\n",
      "/dev/loop3      384K  384K     0 100% /snap/gnome-characters/768\r\n",
      "/dev/loop5      165M  165M     0 100% /snap/gnome-3-28-1804/161\r\n",
      "/dev/loop6      135M  135M     0 100% /snap/skype/197\r\n",
      "/dev/loop7      243M  243M     0 100% /snap/gnome-3-38-2004/76\r\n",
      "/dev/loop8       44M   44M     0 100% /snap/snapd/14295\r\n",
      "/dev/loop10      62M   62M     0 100% /snap/core20/1242\r\n",
      "/dev/loop11     128K  128K     0 100% /snap/bare/5\r\n",
      "/dev/loop9      135M  135M     0 100% /snap/skype/200\r\n",
      "/dev/loop12     219M  219M     0 100% /snap/gnome-3-34-1804/72\r\n",
      "/dev/loop13      56M   56M     0 100% /snap/core18/2253\r\n",
      "/dev/loop16     2.5M  2.5M     0 100% /snap/gnome-calculator/884\r\n",
      "/dev/loop15     148M  148M     0 100% /snap/chromium/1864\r\n",
      "/dev/loop14     163M  163M     0 100% /snap/gnome-3-28-1804/145\r\n",
      "/dev/loop17      66M   66M     0 100% /snap/gtk-common-themes/1515\r\n",
      "/dev/loop18     2.7M  2.7M     0 100% /snap/gnome-system-monitor/169\r\n",
      "/dev/loop19      62M   62M     0 100% /snap/core20/1270\r\n",
      "/dev/loop20     133M  133M     0 100% /snap/chromium/1878\r\n",
      "/dev/loop22     248M  248M     0 100% /snap/gnome-3-38-2004/87\r\n",
      "/dev/loop23     132M  132M     0 100% /snap/cmake/1000\r\n",
      "/dev/loop24     640K  640K     0 100% /snap/gnome-logs/106\r\n",
      "/dev/loop25     2.7M  2.7M     0 100% /snap/gnome-system-monitor/174\r\n",
      "/dev/loop27     640K  640K     0 100% /snap/gnome-logs/103\r\n",
      "/dev/loop26     129M  129M     0 100% /snap/teams/5\r\n",
      "/dev/loop28      66M   66M     0 100% /snap/gtk-common-themes/1519\r\n",
      "/dev/loop29     130M  130M     0 100% /snap/teams/6\r\n",
      "/dev/loop30     219M  219M     0 100% /snap/gnome-3-34-1804/77\r\n",
      "/dev/sda6        19G  221M   18G   2% /boot\r\n",
      "/dev/sdb1       9.4G  4.5M  9.3G   1% /boot/efi\r\n",
      "/dev/sda7       397G  200G  178G  53% /home\r\n",
      "tmpfs           789M   16K  789M   1% /run/user/121\r\n",
      "/dev/loop31      44M   44M     0 100% /snap/snapd/14549\r\n",
      "tmpfs           789M  5.6M  783M   1% /run/user/1000\r\n",
      "/dev/loop21     132M  132M     0 100% /snap/cmake/1005\r\n",
      "/dev/loop0      2.7M  2.7M     0 100% /snap/gnome-calculator/920\r\n"
     ]
    }
   ],
   "source": [
    "# disk resources\n",
    "!df -h"
   ]
  },
  {
   "cell_type": "markdown",
   "metadata": {},
   "source": [
    "### Let's write some code and test it"
   ]
  },
  {
   "cell_type": "code",
   "execution_count": 22,
   "metadata": {
    "deletable": false,
    "jupyter": {
     "outputs_hidden": false
    },
    "nbgrader": {
     "cell_type": "code",
     "checksum": "6c329f8a816096a594244745196e4999",
     "grade": false,
     "grade_id": "a47442",
     "locked": false,
     "schema_version": 3,
     "solution": true,
     "task": false
    }
   },
   "outputs": [],
   "source": [
    "def sum_1_to_n(N):\n",
    "    \"\"\"\n",
    "    Given integer N compute the sum of integer numbers from 1 to N\n",
    "    if N is less than zero, return -sum_1_to_n(-N)\n",
    "    \"\"\"\n",
    "\n",
    "    # your code here\n",
    "    result = 0\n",
    "    for i in range(1,N+1):\n",
    "        result += i\n",
    "    #raise NotImplementedError\n",
    "    if N > 0:\n",
    "        return result\n",
    "    if N == 0 :\n",
    "        return 0\n",
    "    if N < 0:\n",
    "        return -sum_1_to_n\n",
    "    "
   ]
  },
  {
   "cell_type": "code",
   "execution_count": 18,
   "metadata": {},
   "outputs": [],
   "source": [
    "#range(10)"
   ]
  },
  {
   "cell_type": "code",
   "execution_count": 23,
   "metadata": {
    "jupyter": {
     "outputs_hidden": false
    }
   },
   "outputs": [
    {
     "data": {
      "text/plain": [
       "55"
      ]
     },
     "execution_count": 23,
     "metadata": {},
     "output_type": "execute_result"
    }
   ],
   "source": [
    "sum_1_to_n(10)"
   ]
  },
  {
   "cell_type": "code",
   "execution_count": 24,
   "metadata": {
    "jupyter": {
     "outputs_hidden": false
    }
   },
   "outputs": [],
   "source": [
    "from nose.tools import assert_equal, timed\n",
    "import numpy.testing as np_testing\n",
    "import time"
   ]
  },
  {
   "cell_type": "markdown",
   "metadata": {},
   "source": [
    "**Explicit local tests**\n",
    "\n",
    "Those test can verify different aspects of your code like accuracy, timing or anything one can put inside an assert statement of similar kind.\n",
    "If any of those do not pass, and you feel like you got stuck, it is good time to ask for **assistance**."
   ]
  },
  {
   "cell_type": "code",
   "execution_count": 25,
   "metadata": {
    "deletable": false,
    "editable": false,
    "jupyter": {
     "outputs_hidden": false
    },
    "nbgrader": {
     "cell_type": "code",
     "checksum": "4e2280aff69a532a0b20a49a2a92953f",
     "grade": true,
     "grade_id": "simple_checks",
     "locked": true,
     "points": 1,
     "schema_version": 3,
     "solution": false,
     "task": false
    }
   },
   "outputs": [],
   "source": [
    "np_testing.assert_equal(sum_1_to_n(10), 55)\n",
    "np_testing.assert_equal(sum_1_to_n(0), 0)"
   ]
  },
  {
   "cell_type": "code",
   "execution_count": null,
   "metadata": {},
   "outputs": [],
   "source": []
  },
  {
   "cell_type": "markdown",
   "metadata": {},
   "source": [
    "**External tests to be checked on instructor side**\n",
    "\n",
    "Those are essentially doing the same thing as explicit local ones, but the verification happens on instructor's side, so you cannot execute the following two cells on your own."
   ]
  },
  {
   "cell_type": "code",
   "execution_count": null,
   "metadata": {
    "deletable": false,
    "editable": false,
    "jupyter": {
     "outputs_hidden": false
    },
    "nbgrader": {
     "cell_type": "code",
     "checksum": "bb89db04ca606e61d99bddbb4e6f34c3",
     "grade": true,
     "grade_id": "accuracy_check",
     "locked": true,
     "points": 1,
     "schema_version": 3,
     "solution": false,
     "task": false
    }
   },
   "outputs": [],
   "source": [
    "# This cell is going to check function output"
   ]
  },
  {
   "cell_type": "code",
   "execution_count": null,
   "metadata": {
    "deletable": false,
    "editable": false,
    "jupyter": {
     "outputs_hidden": false
    },
    "nbgrader": {
     "cell_type": "code",
     "checksum": "d39056a30b79b9c90a35175020dfe5d6",
     "grade": true,
     "grade_id": "speed_check",
     "locked": true,
     "points": 1,
     "schema_version": 3,
     "solution": false,
     "task": false
    }
   },
   "outputs": [],
   "source": [
    "# This cell is going to check function speed\n"
   ]
  },
  {
   "cell_type": "markdown",
   "metadata": {},
   "source": [
    "## That's it!\n",
    "If all explicit test above has finished successfully, you know how to address typical code problems in a meaningful way. Now you have to be patient before getting scored results since processing tests on the instructor side takes some time."
   ]
  },
  {
   "cell_type": "code",
   "execution_count": null,
   "metadata": {
    "jupyter": {
     "outputs_hidden": false
    }
   },
   "outputs": [],
   "source": []
  }
 ],
 "metadata": {
  "kernelspec": {
   "display_name": "Python 3 (ipykernel)",
   "language": "python",
   "name": "python3"
  },
  "language_info": {
   "codemirror_mode": {
    "name": "ipython",
    "version": 3
   },
   "file_extension": ".py",
   "mimetype": "text/x-python",
   "name": "python",
   "nbconvert_exporter": "python",
   "pygments_lexer": "ipython3",
   "version": "3.9.7"
  }
 },
 "nbformat": 4,
 "nbformat_minor": 4
}
