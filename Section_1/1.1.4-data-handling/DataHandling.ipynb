{
 "cells": [
  {
   "cell_type": "markdown",
   "metadata": {},
   "source": [
    "# Jupyter notebooks\n",
    "\n",
    "This is an IPython notebook, running a python kernel underneath.\n",
    "\n",
    "The state of the python interpreter, all the variables, class and function definitions are preserved between the cell executions. In case you want to reset that state (e.g. to check whether your code works corretrly when the cells are executed in the direct order), go to `Kernel`->`Restart kernel...`"
   ]
  },
  {
   "cell_type": "markdown",
   "metadata": {},
   "source": [
    "The most useful features of Jupyter:\n",
    " - contextual help (hit `TAB`)\n",
    " - quick access to documentation (`SHIFT+TAB`)"
   ]
  },
  {
   "cell_type": "markdown",
   "metadata": {},
   "source": [
    "# Numpy and vectorized computing"
   ]
  },
  {
   "cell_type": "markdown",
   "metadata": {},
   "source": [
    "Almost any machine learning model requires some computational heavy lifting usually involving linear algebra problems. Unfortunately, raw python is terrible at this because each operation is interpreted at runtime."
   ]
  },
  {
   "cell_type": "markdown",
   "metadata": {},
   "source": [
    "So instead, we'll use `numpy` - a library that lets you run blazing fast computation with vectors, matrices and other tensors. The god oject here is `numpy.ndarray`:"
   ]
  },
  {
   "cell_type": "markdown",
   "metadata": {},
   "source": [
    "**please keep running all the code cells as you read**"
   ]
  },
  {
   "cell_type": "code",
   "execution_count": 1,
   "metadata": {},
   "outputs": [
    {
     "name": "stdout",
     "output_type": "stream",
     "text": [
      "a =  [1 2 3 4 5]\n",
      "b =  [5 4 3 2 1]\n",
      "a + 1 = [2 3 4 5 6]\n",
      "a * 2 = [ 2  4  6  8 10]\n",
      "a == 2 [False  True False False False]\n",
      "a + b = [6 6 6 6 6]\n",
      "a * b = [5 8 9 8 5]\n"
     ]
    }
   ],
   "source": [
    "import numpy as np\n",
    "\n",
    "a = np.array([1,2,3,4,5])\n",
    "b = np.array([5,4,3,2,1])\n",
    "print(\"a = \", a)\n",
    "print(\"b = \", b)\n",
    "\n",
    "# math and boolean operations can applied to each element of an array\n",
    "print(\"a + 1 =\", a + 1)\n",
    "print(\"a * 2 =\", a * 2)\n",
    "print(\"a == 2\", a == 2)\n",
    "# ... or corresponding elements of two (or more) arrays\n",
    "print(\"a + b =\", a + b)\n",
    "print(\"a * b =\", a * b)"
   ]
  },
  {
   "cell_type": "code",
   "execution_count": 5,
   "metadata": {
    "deletable": false,
    "nbgrader": {
     "cell_type": "code",
     "checksum": "c64125b5b6b22aff3dcbfcc9404f4f3f",
     "grade": false,
     "grade_id": "cell-c8488cc1b2d24a07",
     "locked": false,
     "schema_version": 3,
     "solution": true,
     "task": false
    }
   },
   "outputs": [],
   "source": [
    "# Your turn: compute half-products of a and b elements (halves of products)\n",
    "\n",
    "def half_product(a, b):\n",
    "    # your code here\n",
    "    return a * b / 2\n",
    "    #raise NotImplementedError"
   ]
  },
  {
   "cell_type": "markdown",
   "metadata": {},
   "source": [
    "Make sure the automatic checks are passed:"
   ]
  },
  {
   "cell_type": "code",
   "execution_count": 6,
   "metadata": {
    "deletable": false,
    "editable": false,
    "nbgrader": {
     "cell_type": "code",
     "checksum": "4c9c691d1432f3b31a4b428f79d6c903",
     "grade": true,
     "grade_id": "HalfProduct",
     "locked": true,
     "points": 1,
     "schema_version": 3,
     "solution": false,
     "task": false
    }
   },
   "outputs": [
    {
     "name": "stdout",
     "output_type": "stream",
     "text": [
      "a = [1 2 3 4 5]\n",
      "b = [5 4 3 2 1]\n",
      "a * b / 2 =  [2.5 4.  4.5 4.  2.5]\n"
     ]
    }
   ],
   "source": [
    "np.testing.assert_almost_equal(\n",
    "    half_product(\n",
    "        np.array([ 1.3549439 , -1.69765972,  0.32111273, -0.2703243 , -0.38928596]),\n",
    "        np.array([-1.50693732,  0.69443195,  0.90948151,  1.1717395 ,  1.4069652 ])\n",
    "    ),\n",
    "    np.array([-1.02090776, -0.58945457,  0.14602305, -0.15837483, -0.2738559 ])\n",
    ")\n",
    "\n",
    "print(\"a =\", a)\n",
    "print(\"b =\", b)\n",
    "print(\"a * b / 2 = \", half_product(a, b))"
   ]
  },
  {
   "cell_type": "code",
   "execution_count": 7,
   "metadata": {
    "deletable": false,
    "nbgrader": {
     "cell_type": "code",
     "checksum": "3acedf658b5c33b0eead6ad274dffb8d",
     "grade": false,
     "grade_id": "cell-68ccf91f62d2ac06",
     "locked": false,
     "schema_version": 3,
     "solution": true,
     "task": false
    }
   },
   "outputs": [],
   "source": [
    "# compute elementwise quotient between squared a and (b plus 1), return the result\n",
    "\n",
    "def a_squared_over_b_plus_1(a, b):\n",
    "    # your code here\n",
    "    return a**2 / (b+1)\n",
    "    #raise NotImplementedError"
   ]
  },
  {
   "cell_type": "markdown",
   "metadata": {},
   "source": [
    "Make sure the automatic checks are passed:"
   ]
  },
  {
   "cell_type": "code",
   "execution_count": 8,
   "metadata": {
    "deletable": false,
    "editable": false,
    "nbgrader": {
     "cell_type": "code",
     "checksum": "9245b661e7e60032868f6c8f9d360635",
     "grade": true,
     "grade_id": "ASquaredOverBPlus1",
     "locked": true,
     "points": 1,
     "schema_version": 3,
     "solution": false,
     "task": false
    }
   },
   "outputs": [
    {
     "name": "stdout",
     "output_type": "stream",
     "text": [
      "a =  [1 2 3 4 5]\n",
      "b =  [5 4 3 2 1]\n",
      "a**2 / (b + 1) [ 0.16666667  0.8         2.25        5.33333333 12.5       ]\n"
     ]
    }
   ],
   "source": [
    "np.testing.assert_almost_equal(\n",
    "    a_squared_over_b_plus_1(\n",
    "        np.array([ 1.3549439 , -1.69765972,  0.32111273, -0.2703243 , -0.38928596]),\n",
    "        np.array([-1.50693732,  0.69443195,  0.90948151,  1.1717395 ,  1.4069652 ])\n",
    "    ),\n",
    "    np.array([-3.62149895,  1.70089364,  0.05400072,  0.03364825,  0.06296043])\n",
    ")\n",
    "\n",
    "print(\"a = \", a)\n",
    "print(\"b = \", b)\n",
    "print(\"a**2 / (b + 1)\", a_squared_over_b_plus_1(a, b))"
   ]
  },
  {
   "cell_type": "markdown",
   "metadata": {},
   "source": [
    "---------"
   ]
  },
  {
   "cell_type": "markdown",
   "metadata": {},
   "source": [
    "There's a number of functions to create arrays of zeros, ones, ascending/descending numbers etc.:"
   ]
  },
  {
   "cell_type": "code",
   "execution_count": null,
   "metadata": {},
   "outputs": [],
   "source": [
    "np.zeros(shape=(3, 4))"
   ]
  },
  {
   "cell_type": "code",
   "execution_count": null,
   "metadata": {},
   "outputs": [],
   "source": [
    "np.ones(shape=(2, 5))"
   ]
  },
  {
   "cell_type": "code",
   "execution_count": null,
   "metadata": {},
   "outputs": [],
   "source": [
    "np.arange(3, 15, 2.5) # start, stop, step"
   ]
  },
  {
   "cell_type": "code",
   "execution_count": null,
   "metadata": {},
   "outputs": [],
   "source": [
    "np.linspace(0, 10, 11) # divide [0, 10] interval into 11 points"
   ]
  },
  {
   "cell_type": "markdown",
   "metadata": {},
   "source": [
    "You can easily reshape arrays:"
   ]
  },
  {
   "cell_type": "code",
   "execution_count": null,
   "metadata": {},
   "outputs": [],
   "source": [
    "np.arange(24).reshape(2, 3, 4)"
   ]
  },
  {
   "cell_type": "markdown",
   "metadata": {},
   "source": [
    "Array dimensions are automatically broadcast when doing mathematical operations:"
   ]
  },
  {
   "cell_type": "code",
   "execution_count": null,
   "metadata": {},
   "outputs": [],
   "source": [
    "np.arange(3).reshape(1, 3) - np.arange(3).reshape(3, 1)"
   ]
  },
  {
   "cell_type": "markdown",
   "metadata": {},
   "source": [
    "You can use broadcasting in many ways. E.g. to raise a matrix to a set of powers elementwise:"
   ]
  },
  {
   "cell_type": "code",
   "execution_count": null,
   "metadata": {},
   "outputs": [],
   "source": [
    "A = np.array([\n",
    "    [1, 2],\n",
    "    [3, 5]\n",
    "])\n",
    "powers = np.arange(1, 5)\n",
    "\n",
    "A.reshape(1, 2, 2)**powers.reshape(4, 1, 1)"
   ]
  },
  {
   "cell_type": "markdown",
   "metadata": {},
   "source": [
    "There is also a number of ways to stack arrays together. E.g. `np.concatenate` joins arrays along **an existing** axis:"
   ]
  },
  {
   "cell_type": "code",
   "execution_count": null,
   "metadata": {},
   "outputs": [],
   "source": [
    "matrix1 = np.arange(18).reshape(6, 3) # array of shape (6, 3)\n",
    "matrix2 = -np.arange(12).reshape(6, 2) # array of shape (6, 2)\n",
    "\n",
    "np.concatenate([matrix1, matrix2], axis=1) # result of shape (6, 5)"
   ]
  },
  {
   "cell_type": "markdown",
   "metadata": {},
   "source": [
    "While `np.stack` adds **a new dimension** to the result:"
   ]
  },
  {
   "cell_type": "code",
   "execution_count": null,
   "metadata": {},
   "outputs": [],
   "source": [
    "np.stack([\n",
    "    np.arange(5), # array of shape (5,)\n",
    "    np.linspace(0, 1, 5) # array of shape (5,)\n",
    "], axis=1) # result of shape (5, 2)"
   ]
  },
  {
   "cell_type": "markdown",
   "metadata": {},
   "source": [
    "Any matrix can be transposed easily:"
   ]
  },
  {
   "cell_type": "code",
   "execution_count": null,
   "metadata": {},
   "outputs": [],
   "source": [
    "print(matrix2)\n",
    "print('---')\n",
    "print(matrix2.T)"
   ]
  },
  {
   "cell_type": "code",
   "execution_count": null,
   "metadata": {},
   "outputs": [],
   "source": [
    "print('matrix2.shape =', matrix2.shape)\n",
    "print('matrix2.T.shape =', matrix2.T.shape)"
   ]
  },
  {
   "cell_type": "code",
   "execution_count": null,
   "metadata": {
    "deletable": false,
    "nbgrader": {
     "cell_type": "code",
     "checksum": "8b4d94e9d3bfd99695118273a58f221c",
     "grade": false,
     "grade_id": "cell-7052c430a2292e3f",
     "locked": false,
     "schema_version": 3,
     "solution": true,
     "task": false
    }
   },
   "outputs": [],
   "source": [
    "# Your turn!\n",
    "# Using the methods you've learned (array initialization,\n",
    "# reshaping and concatenation), write a function that composes\n",
    "# and returns the following matrix:\n",
    "#\n",
    "#              0   7  14  21  28  0  0\n",
    "#              1   8  15  22  29  0  0\n",
    "#              2   9  16  23  30  0  0\n",
    "#              3  10  17  24  31  3  3\n",
    "#              4  11  18  25  32  3  3\n",
    "#              5  12  19  26  33  3  3\n",
    "#              6  13  20  27  34  3  3\n",
    "\n",
    "\n",
    "def compose_matrix():\n",
    "    # your code here\n",
    "    raise NotImplementedError"
   ]
  },
  {
   "cell_type": "code",
   "execution_count": null,
   "metadata": {
    "deletable": false,
    "editable": false,
    "nbgrader": {
     "cell_type": "code",
     "checksum": "2b9eb5294e7ca9efe33aaffd7561e7c1",
     "grade": true,
     "grade_id": "ComposeMatrix",
     "locked": true,
     "points": 1,
     "schema_version": 3,
     "solution": false,
     "task": false
    }
   },
   "outputs": [],
   "source": [
    "np.testing.assert_equal(\n",
    "    compose_matrix(),\n",
    "    np.array([[0,   7,  14,  21,  28,  0,  0],\n",
    "              [1,   8,  15,  22,  29,  0,  0],\n",
    "              [2,   9,  16,  23,  30,  0,  0],\n",
    "              [3,  10,  17,  24,  31,  3,  3],\n",
    "              [4,  11,  18,  25,  32,  3,  3],\n",
    "              [5,  12,  19,  26,  33,  3,  3],\n",
    "              [6,  13,  20,  27,  34,  3,  3]])\n",
    ")"
   ]
  },
  {
   "cell_type": "markdown",
   "metadata": {},
   "source": [
    "Linear algebra:"
   ]
  },
  {
   "cell_type": "code",
   "execution_count": null,
   "metadata": {},
   "outputs": [],
   "source": [
    "a = np.arange(3)\n",
    "B = np.arange(12).reshape(4, 3)\n",
    "print(\"a =\", a)\n",
    "print(\"B =\\n\", B)\n",
    "print(\"Dot product (a*a):\", a @ a) # or: np.dot(a, a)\n",
    "print(\"Matrix-vector (B*a):\", B @ a) # or: np.matmul(B, a)\n",
    "print(\"Matrix-matrix (B*B.T):\\n\", B @ B.T) # or: np.matmul(B, B.T)"
   ]
  },
  {
   "cell_type": "markdown",
   "metadata": {},
   "source": [
    "There's also a bunch of pre-implemented operations including logarithms, trigonometry and aggregations."
   ]
  },
  {
   "cell_type": "code",
   "execution_count": null,
   "metadata": {},
   "outputs": [],
   "source": [
    "a = np.array([1,2,3,4,5])\n",
    "b = np.array([5,4,3,2,1])\n",
    "print(\"numpy.sum(a) = \", np.sum(a))\n",
    "print(\"numpy.mean(a) = \", np.mean(a))\n",
    "print(\"numpy.min(a) = \",  np.min(a))\n",
    "print(\"numpy.argmin(b) = \", np.argmin(b))  # index of minimal element\n",
    "print(\"numpy.dot(a,b) = \", np.dot(a, b))      # dot product. Also used for matrix/tensor multiplication\n",
    "print(\"numpy.unique(['male','male','female','female','male']) = \", np.unique(['male','male','female','female','male']))\n",
    "\n",
    "# and tons of other stuff. see http://bit.ly/2u5q430 ."
   ]
  },
  {
   "cell_type": "code",
   "execution_count": null,
   "metadata": {},
   "outputs": [],
   "source": [
    "# most of this functions are also implemented as members of numpy arrays, e.g.:\n",
    "print('a.min() =', a.min())\n",
    "print('a.mean() =', a.mean())"
   ]
  },
  {
   "cell_type": "markdown",
   "metadata": {},
   "source": [
    "# pandas"
   ]
  },
  {
   "cell_type": "markdown",
   "metadata": {},
   "source": [
    "Pandas is a library that helps you load the data, prepare it and perform some lightweight analysis. It is built ontop of numpy. The god object here is the pandas.DataFrame - a 2d table with batteries included.\n",
    "\n",
    "In the cell below we use it to read the data on the infamous Titanic shipwreck."
   ]
  },
  {
   "cell_type": "code",
   "execution_count": null,
   "metadata": {},
   "outputs": [],
   "source": [
    "# check out the file contents:\n",
    "!head ../../data/1.1.4-DataHandling/train.csv"
   ]
  },
  {
   "cell_type": "code",
   "execution_count": null,
   "metadata": {},
   "outputs": [],
   "source": [
    "import pandas as pd\n",
    "data = pd.read_csv(\"../../data/1.1.4-DataHandling/train.csv\", index_col='PassengerId') # this yields a pandas.DataFrame"
   ]
  },
  {
   "cell_type": "code",
   "execution_count": null,
   "metadata": {},
   "outputs": [],
   "source": [
    "# Selecting rows\n",
    "head = data[:10]\n",
    "head"
   ]
  },
  {
   "cell_type": "markdown",
   "metadata": {},
   "source": [
    "### About the data\n",
    "Here's some of the columns\n",
    "\n",
    " - Name - a string with person's full name\n",
    " - Survived - 1 if a person survived the shipwreck, 0 otherwise.\n",
    " - Pclass - passenger class. Pclass == 3 is cheap'n'cheerful, Pclass == 1 is for moneybags.\n",
    " - Sex - a person's gender\n",
    " - Age - age in years, if available\n",
    " - Sibsp - number of siblings on a ship\n",
    " - Parch - number of parents on a ship\n",
    " - Fare - ticket cost\n",
    " - Embarked - port where the passenger embarked\n",
    "   - C = Cherbourg; Q = Queenstown; S = Southampton"
   ]
  },
  {
   "cell_type": "code",
   "execution_count": null,
   "metadata": {},
   "outputs": [],
   "source": [
    "# table dimensions\n",
    "print(\"len(data) = \", len(data))\n",
    "print(\"data.shape = \", data.shape)"
   ]
  },
  {
   "cell_type": "code",
   "execution_count": null,
   "metadata": {},
   "outputs": [],
   "source": [
    "# select a single row\n",
    "print(data.loc[4])"
   ]
  },
  {
   "cell_type": "code",
   "execution_count": null,
   "metadata": {},
   "outputs": [],
   "source": [
    "# select a single column.\n",
    "ages = data[\"Age\"]\n",
    "print(ages[:10])  # alternatively: data.Age"
   ]
  },
  {
   "cell_type": "code",
   "execution_count": null,
   "metadata": {},
   "outputs": [],
   "source": [
    "# select several columns and rows at once\n",
    "data.loc[5:10, (\"Fare\", \"Pclass\")]    # alternatively: data[[\"Fare\",\"Pclass\"]].loc[5:10]"
   ]
  },
  {
   "cell_type": "markdown",
   "metadata": {},
   "source": [
    "Some columns contain NaN values - this means that there is no data there. For example, passenger #5 has unknown age. To simplify the future data analysis, we'll replace NaN values by using pandas fillna function.\n",
    "\n",
    "**Important note: we do this so easily because it's a tutorial. In general, you think twice before you modify data like this.**"
   ]
  },
  {
   "cell_type": "code",
   "execution_count": null,
   "metadata": {},
   "outputs": [],
   "source": [
    "data.iloc[5]"
   ]
  },
  {
   "cell_type": "code",
   "execution_count": null,
   "metadata": {},
   "outputs": [],
   "source": [
    "data['Age'] = data['Age'].fillna(value=data['Age'].mean())\n",
    "data['Fare'] = data['Fare'].fillna(value=data['Fare'].mean())"
   ]
  },
  {
   "cell_type": "code",
   "execution_count": null,
   "metadata": {},
   "outputs": [],
   "source": [
    "data.iloc[5]"
   ]
  },
  {
   "cell_type": "markdown",
   "metadata": {},
   "source": [
    "The functions `max`, `min`, `mean`, etc. are also available:"
   ]
  },
  {
   "cell_type": "code",
   "execution_count": null,
   "metadata": {},
   "outputs": [],
   "source": [
    "print(\"Max ticket price: \", data[\"Fare\"].max())\n",
    "\n",
    "print(\"\\nThe guy who paid the most:\\n\", data.loc[data['Fare'].idxmax()])"
   ]
  },
  {
   "cell_type": "markdown",
   "metadata": {},
   "source": [
    "Boolean operations produce boolean arrays:"
   ]
  },
  {
   "cell_type": "code",
   "execution_count": null,
   "metadata": {},
   "outputs": [],
   "source": [
    "data['Age'] < 30"
   ]
  },
  {
   "cell_type": "markdown",
   "metadata": {},
   "source": [
    "Boolean indexing comes very handy for quickly selecting subsets of data:"
   ]
  },
  {
   "cell_type": "code",
   "execution_count": null,
   "metadata": {},
   "outputs": [],
   "source": [
    "print(\"data[(data['Age'] < 18) & (data['Sex'] == 'male')] = (below)\") # select male children\n",
    "data.loc[(data['Age'] < 18) & (data['Sex'] == 'male')]"
   ]
  },
  {
   "cell_type": "markdown",
   "metadata": {},
   "source": [
    "# Plots and matplotlib"
   ]
  },
  {
   "cell_type": "markdown",
   "metadata": {},
   "source": [
    "Using python to visualize the data is covered by yet another library: `matplotlib`.\n",
    "\n",
    "Just like python itself, matplotlib has an awesome tendency of keeping simple things simple while still allowing you to write complicated stuff with convenience (e.g. super-detailed plots or custom animations)."
   ]
  },
  {
   "cell_type": "code",
   "execution_count": null,
   "metadata": {},
   "outputs": [],
   "source": [
    "import matplotlib.pyplot as plt\n",
    "%matplotlib inline\n",
    "\n",
    "# line plot\n",
    "plt.plot([0,1,2,3,4,5],[0,1,4,9,16,25]);"
   ]
  },
  {
   "cell_type": "code",
   "execution_count": null,
   "metadata": {},
   "outputs": [],
   "source": [
    "#scatter-plot\n",
    "x = np.arange(5)\n",
    "print(\"x =\", x)\n",
    "print(\"x**2 =\", x**2)\n",
    "print(\"plotting x**2 vs x:\")\n",
    "plt.scatter(x, x**2)\n",
    "\n",
    "plt.show()  # show the first plot and begin drawing next one\n",
    "plt.plot(x, x**2);"
   ]
  },
  {
   "cell_type": "code",
   "execution_count": null,
   "metadata": {},
   "outputs": [],
   "source": [
    "# histogram - showing data density\n",
    "plt.hist([0,1,1,1,2,2,3,3,3,3,3,4,4,5,5,5,6,7,7,8,9,10])\n",
    "plt.show()\n",
    "\n",
    "plt.hist([0,1,1,1,2,2,3,3,3,3,3,4,4,5,5,5,6,7,7,8,9,10], bins=5);"
   ]
  },
  {
   "cell_type": "code",
   "execution_count": null,
   "metadata": {
    "deletable": false,
    "nbgrader": {
     "cell_type": "code",
     "checksum": "e206ef7cfa838b5da70654daf7a84dd8",
     "grade": false,
     "grade_id": "cell-47ef312a43c1dcff",
     "locked": false,
     "schema_version": 3,
     "solution": true,
     "task": false
    }
   },
   "outputs": [],
   "source": [
    "# plot a histogram of age and a histogram of ticket fares on separate plots\n",
    "\n",
    "ages = data[\"Age\"]\n",
    "fares = data[\"Fare\"]\n",
    "\n",
    "# your code here\n",
    "raise NotImplementedError"
   ]
  },
  {
   "cell_type": "code",
   "execution_count": null,
   "metadata": {},
   "outputs": [],
   "source": [
    "plt.scatter(data['Age'],\n",
    "            np.log1p(data['Fare']),\n",
    "            c=data['Survived'], # maps different colors depending on whether a person survived\n",
    "            s=2, # change the marker size\n",
    "            cmap='bwr'); # select colormap"
   ]
  },
  {
   "cell_type": "markdown",
   "metadata": {},
   "source": [
    "# machine learning with scikit-learn"
   ]
  },
  {
   "cell_type": "markdown",
   "metadata": {},
   "source": [
    "Scikit-learn is *the* tool for simple machine learning pipelines.\n",
    "\n",
    "It's a single library that unites a whole bunch of models under the common interface:\n",
    "\n",
    " - Create: **`model = sklearn.whatever.ModelNameHere(parameters_if_any)`**\n",
    " - Train: **`model.fit(X,y)`**\n",
    " - Predict: **`model.predict(X_test)`**\n",
    "\n",
    "It also contains utilities for feature extraction, quality estimation or cross-validation."
   ]
  },
  {
   "cell_type": "code",
   "execution_count": null,
   "metadata": {
    "deletable": false,
    "nbgrader": {
     "cell_type": "code",
     "checksum": "bb506c56f21d21c4b27915351f263ab1",
     "grade": false,
     "grade_id": "cell-6d2bf99a4c496ad3",
     "locked": false,
     "schema_version": 3,
     "solution": true,
     "task": false
    }
   },
   "outputs": [],
   "source": [
    "from sklearn.neighbors import KNeighborsClassifier\n",
    "from sklearn.metrics import accuracy_score\n",
    "\n",
    "\n",
    "features = data[['Age', 'SibSp']].copy()\n",
    "\n",
    "# your code here\n",
    "raise NotImplementedError\n",
    "\n",
    "\n",
    "answers = data[\"Survived\"]\n",
    "\n",
    "model = KNeighborsClassifier(n_neighbors=5)\n",
    "model.fit(features[:-100], answers[:-100])\n",
    "\n",
    "test_predictions = model.predict(features[-100:])\n",
    "print(\"Test accuracy:\", accuracy_score(answers[-100:], test_predictions))"
   ]
  },
  {
   "cell_type": "markdown",
   "metadata": {},
   "source": [
    "**Final quest:** tune n_neighbors and add more features to achieve accuracy of at least 0.75\n",
    "\n",
    "**Hint 1:** for string features like \"Sex\" or \"Embarked\" you will have to compute some kind of numeric representation. For example, 1 if male and 0 if female or vice versa\n",
    "\n",
    "**Hint 2:** features like \"Age\" contain NaN values. You can replace them with `replaced = data[\"Age\"].fillna(some_number)`."
   ]
  },
  {
   "cell_type": "code",
   "execution_count": null,
   "metadata": {
    "deletable": false,
    "editable": false,
    "nbgrader": {
     "cell_type": "code",
     "checksum": "486af966e7ca260acfd8498755711f4d",
     "grade": true,
     "grade_id": "TitanicScoreLow",
     "locked": true,
     "points": 1,
     "schema_version": 3,
     "solution": false,
     "task": false
    }
   },
   "outputs": [],
   "source": [
    "model.fit(features[:-100], answers[:-100])\n",
    "\n",
    "test_predictions = model.predict(features[-100:])\n",
    "score = accuracy_score(answers[-100:], test_predictions)\n",
    "assert score >= 0.75, score"
   ]
  },
  {
   "cell_type": "code",
   "execution_count": null,
   "metadata": {
    "deletable": false,
    "editable": false,
    "nbgrader": {
     "cell_type": "code",
     "checksum": "1f558ce77393befb83283b3f564e60ab",
     "grade": true,
     "grade_id": "TitanicScoreMid",
     "locked": true,
     "points": 1,
     "schema_version": 3,
     "solution": false,
     "task": false
    }
   },
   "outputs": [],
   "source": [
    "model.fit(features[:-100], answers[:-100])\n",
    "\n",
    "test_predictions = model.predict(features[-100:])\n",
    "score = accuracy_score(answers[-100:], test_predictions)\n",
    "assert score >= 0.8, score"
   ]
  },
  {
   "cell_type": "code",
   "execution_count": null,
   "metadata": {
    "deletable": false,
    "editable": false,
    "nbgrader": {
     "cell_type": "code",
     "checksum": "fbe0a6e73bd86fdb63bc6809f44a86de",
     "grade": true,
     "grade_id": "TitanicScoreHigh",
     "locked": true,
     "points": 1,
     "schema_version": 3,
     "solution": false,
     "task": false
    }
   },
   "outputs": [],
   "source": [
    "model.fit(features[:-100], answers[:-100])\n",
    "\n",
    "test_predictions = model.predict(features[-100:])\n",
    "score = accuracy_score(answers[-100:], test_predictions)\n",
    "assert score >= 0.85, score"
   ]
  },
  {
   "cell_type": "markdown",
   "metadata": {},
   "source": [
    "# Bonus part"
   ]
  },
  {
   "cell_type": "code",
   "execution_count": null,
   "metadata": {},
   "outputs": [],
   "source": [
    "from matplotlib.ticker import ScalarFormatter\n",
    "\n",
    "data['qFare'] = pd.qcut(data.Fare, 20)\n",
    "\n",
    "sur_vs_price = data.groupby('qFare').Survived.mean()\n",
    "sur_vs_price_e = data.groupby('qFare').Survived.std() \\\n",
    "                        / data.groupby('qFare').Survived.count()**0.5\n",
    "\n",
    "fig = plt.figure(figsize=(12, 7))\n",
    "plt.errorbar(x=sur_vs_price.index.categories.mid,\n",
    "             y=sur_vs_price.values,\n",
    "             yerr=sur_vs_price_e.values,\n",
    "             xerr=(\n",
    "                 pd.IntervalIndex(sur_vs_price.index).right - \n",
    "                 pd.IntervalIndex(sur_vs_price.index).left\n",
    "               ) / 2,\n",
    "             fmt='o')\n",
    "plt.gca().set_xscale('log')\n",
    "plt.gca().xaxis.set_major_formatter(ScalarFormatter())\n",
    "plt.gca().set_xticks(\n",
    "              list(range(3, 10)) +\n",
    "              list(range(10, 100, 10)) +\n",
    "              list(range(100, 700, 100))\n",
    "            )\n",
    "\n",
    "plt.xlabel('Fare')\n",
    "plt.ylabel('Survival probability');"
   ]
  }
 ],
 "metadata": {
  "kernelspec": {
   "display_name": "Python 3 (ipykernel)",
   "language": "python",
   "name": "python3"
  },
  "language_info": {
   "codemirror_mode": {
    "name": "ipython",
    "version": 3
   },
   "file_extension": ".py",
   "mimetype": "text/x-python",
   "name": "python",
   "nbconvert_exporter": "python",
   "pygments_lexer": "ipython3",
   "version": "3.9.7"
  }
 },
 "nbformat": 4,
 "nbformat_minor": 4
}
